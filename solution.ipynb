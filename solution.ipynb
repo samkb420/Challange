{
 "cells": [
  {
   "cell_type": "code",
   "execution_count": 4,
   "metadata": {},
   "outputs": [],
   "source": [
    "import requests \n",
    "from pandas import json_normalize\n"
   ]
  },
  {
   "cell_type": "markdown",
   "metadata": {},
   "source": [
    "## Dataset url\n",
    "\n",
    "https://raw.githubusercontent.com/onaio/ona-tech/master/data/water_points.json"
   ]
  },
  {
   "cell_type": "code",
   "execution_count": 13,
   "metadata": {},
   "outputs": [],
   "source": [
    "def calculate(url):\n",
    "    '''\n",
    "   -the number of water points\n",
    "   - the number of water points per community\n",
    "    - rank for each community  # calculate per broken  water points\n",
    "   \n",
    "      cal_ranking(df.broken_WATER_points)\n",
    "   \n",
    "   \n",
    "   \n",
    "   --community villages , water_fuctioning\n",
    "    \n",
    "    '''\n",
    "    url = \"https://raw.githubusercontent.com/onaio/ona-tech/master/data/water_points.json\"\n",
    "\n",
    "    response=requests.get(url)\n",
    "    df = response.json()\n",
    "\n",
    "    da = json_normalize(df)\n",
    "    \n",
    "    \n",
    "    \n",
    "\n",
    "    \n",
    "    return  da.water_point_condition\n",
    "\n",
    "\n",
    "\n",
    "\n"
   ]
  },
  {
   "cell_type": "code",
   "execution_count": 14,
   "metadata": {},
   "outputs": [
    {
     "data": {
      "text/plain": [
       "0      functioning\n",
       "1      functioning\n",
       "2      functioning\n",
       "3      functioning\n",
       "4      functioning\n",
       "          ...     \n",
       "707    functioning\n",
       "708         broken\n",
       "709         broken\n",
       "710    functioning\n",
       "711    functioning\n",
       "Name: water_point_condition, Length: 712, dtype: object"
      ]
     },
     "execution_count": 14,
     "metadata": {},
     "output_type": "execute_result"
    }
   ],
   "source": [
    "calculate('https://raw.githubusercontent.com/onaio/ona-tech/master/data/water_points.json')"
   ]
  },
  {
   "cell_type": "code",
   "execution_count": null,
   "metadata": {},
   "outputs": [],
   "source": [
    "def fun_broken(da.water_point_condation):\n",
    "    \n",
    "    if da.water_point_condation == 'functioning':\n",
    "        count = 0\n",
    "        count + 1\n",
    "        \n",
    "        return count\n",
    "    else:\n",
    "        count = 0\n",
    "        count += 1\n",
    "    \n",
    "    \n",
    "    return \n",
    "    "
   ]
  }
 ],
 "metadata": {
  "kernelspec": {
   "display_name": "Python 3",
   "language": "python",
   "name": "python3"
  },
  "language_info": {
   "codemirror_mode": {
    "name": "ipython",
    "version": 3
   },
   "file_extension": ".py",
   "mimetype": "text/x-python",
   "name": "python",
   "nbconvert_exporter": "python",
   "pygments_lexer": "ipython3",
   "version": "3.7.3"
  }
 },
 "nbformat": 4,
 "nbformat_minor": 2
}
